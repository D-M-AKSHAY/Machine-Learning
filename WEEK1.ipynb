{
 "cells": [
  {
   "cell_type": "code",
   "execution_count": 1,
   "id": "ae44d3e2-44eb-4796-b88f-7b1b3fdb5829",
   "metadata": {},
   "outputs": [
    {
     "name": "stdout",
     "output_type": "stream",
     "text": [
      "     sepal_length  sepal_width  petal_length  petal_width           label\n",
      "0             5.1          3.5           1.4          0.2     Iris-setosa\n",
      "1             4.9          3.0           1.4          0.2     Iris-setosa\n",
      "2             4.7          3.2           1.3          0.2     Iris-setosa\n",
      "3             4.6          3.1           1.5          0.2     Iris-setosa\n",
      "4             5.0          3.6           1.4          0.2     Iris-setosa\n",
      "..            ...          ...           ...          ...             ...\n",
      "145           6.7          3.0           5.2          2.3  Iris-virginica\n",
      "146           6.3          2.5           5.0          1.9  Iris-virginica\n",
      "147           6.5          3.0           5.2          2.0  Iris-virginica\n",
      "148           6.2          3.4           5.4          2.3  Iris-virginica\n",
      "149           5.9          3.0           5.1          1.8  Iris-virginica\n",
      "\n",
      "[150 rows x 5 columns]\n"
     ]
    }
   ],
   "source": [
    "#reading the data that we have.\n",
    "#we downloaded the iris file and then changed it into a csv file. \n",
    "import pandas as p\n",
    "data=p.read_csv(\"C:\\\\Users\\\\JEHOVAHNISSI\\\\Machine Learning Lab\\\\WEEK1\\\\iris.csv\", names=[\"sepal_length\", \"sepal_width\", \"petal_length\", \"petal_width\", \"label\"])\n",
    "print(data)"
   ]
  },
  {
   "cell_type": "code",
   "execution_count": 2,
   "id": "a4279aa3-b869-4c80-933c-8352efe13ff2",
   "metadata": {},
   "outputs": [
    {
     "name": "stdout",
     "output_type": "stream",
     "text": [
      "\n",
      "________________SEPAL LENGTH___________________\n",
      "minimum of sepal length:  4.3\n",
      "maximum of sepal length:  7.9\n",
      "mean of sepal length:  5.843333333333334\n",
      "standard deviation of sepal length:  0.828066127977863\n"
     ]
    }
   ],
   "source": [
    "#1st question -\n",
    "#sepal length\n",
    "print()\n",
    "print(\"________________SEPAL LENGTH___________________\")\n",
    "min_of_sl = data[\"sepal_length\"].min()\n",
    "print(\"minimum of sepal length: \",min_of_sl)\n",
    "max_of_sl = data[\"sepal_length\"].max()\n",
    "print(\"maximum of sepal length: \",max_of_sl)\n",
    "mean_of_sl = data[\"sepal_length\"].mean()\n",
    "print(\"mean of sepal length: \", mean_of_sl)\n",
    "std_of_sl = data[\"sepal_length\"].std()\n",
    "print(\"standard deviation of sepal length: \",std_of_sl)"
   ]
  },
  {
   "cell_type": "code",
   "execution_count": 3,
   "id": "cd9d49c7-9a8c-4068-8ff7-f7f844160871",
   "metadata": {},
   "outputs": [
    {
     "name": "stdout",
     "output_type": "stream",
     "text": [
      "\n",
      "________________SEPAL WIDTH___________________\n",
      "minimum of sepal width:  2.0\n",
      "maximum of sepal width:  4.4\n",
      "mean of sepal width:  3.0540000000000003\n",
      "standard deviation of sepal width:  0.4335943113621737\n"
     ]
    }
   ],
   "source": [
    "#2nd question -\n",
    "#sepal width\n",
    "print()\n",
    "print(\"________________SEPAL WIDTH___________________\")\n",
    "min_of_sw = data[\"sepal_width\"].min()\n",
    "print(\"minimum of sepal width: \",min_of_sw)\n",
    "max_of_sw = data[\"sepal_width\"].max()\n",
    "print(\"maximum of sepal width: \",max_of_sw)\n",
    "mean_of_sw = data[\"sepal_width\"].mean()\n",
    "print(\"mean of sepal width: \", mean_of_sw)\n",
    "std_of_sw = data[\"sepal_width\"].std()\n",
    "print(\"standard deviation of sepal width: \",std_of_sw)"
   ]
  },
  {
   "cell_type": "code",
   "execution_count": 4,
   "id": "ff87d5cd-5f06-4b47-b738-42602bce54f9",
   "metadata": {},
   "outputs": [
    {
     "name": "stdout",
     "output_type": "stream",
     "text": [
      "\n",
      "________________PETAL LENGTH___________________\n",
      "minimum of petal length:  1.0\n",
      "maximum of petal length:  6.9\n",
      "mean of petal length:  3.758666666666666\n",
      "standard deviation of sepal length:  1.7644204199522626\n"
     ]
    }
   ],
   "source": [
    "#3rd question -\n",
    "#petal length\n",
    "print()\n",
    "print(\"________________PETAL LENGTH___________________\")\n",
    "min_of_pl = data[\"petal_length\"].min()\n",
    "print(\"minimum of petal length: \",min_of_pl)\n",
    "max_of_pl = data[\"petal_length\"].max()\n",
    "print(\"maximum of petal length: \",max_of_pl)\n",
    "mean_of_pl = data[\"petal_length\"].mean()\n",
    "print(\"mean of petal length: \", mean_of_pl)\n",
    "std_of_pl = data[\"petal_length\"].std()\n",
    "print(\"standard deviation of sepal length: \",std_of_pl)"
   ]
  },
  {
   "cell_type": "code",
   "execution_count": 5,
   "id": "220c8991-f4bc-48df-a83c-86da500c552d",
   "metadata": {},
   "outputs": [
    {
     "name": "stdout",
     "output_type": "stream",
     "text": [
      "\n",
      "________________PETAL WIDTH___________________\n",
      "minimum of petal width:  0.1\n",
      "maximum of petal width:  2.5\n",
      "mean of petal width:  1.1986666666666668\n",
      "standard deviation of sepal width:  0.7631607417008411\n"
     ]
    }
   ],
   "source": [
    "#4th question -\n",
    "#petal width\n",
    "print()\n",
    "print(\"________________PETAL WIDTH___________________\")*\n",
    "min_of_pw = data[\"petal_width\"].min()\n",
    "print(\"minimum of petal width: \",min_of_pw)\n",
    "max_of_pw = data[\"petal_width\"].max()\n",
    "print(\"maximum of petal width: \",max_of_pw)\n",
    "mean_of_pw = data[\"petal_width\"].mean()\n",
    "print(\"mean of petal width: \", mean_of_pw)\n",
    "std_of_pw = data[\"petal_width\"].std()\n",
    "print(\"standard deviation of sepal width: \",std_of_pw)"
   ]
  },
  {
   "cell_type": "code",
   "execution_count": 11,
   "id": "2037d815-c737-491d-96a3-0e11a5c084fa",
   "metadata": {},
   "outputs": [
    {
     "name": "stdout",
     "output_type": "stream",
     "text": [
      "Correlation -\n",
      "Correlation between Iris Setosa and Iris Versicolour: 0.8123892148022637\n",
      "Correlation between Iris Versicolour and Iris Virginica: 0.8284786619605903\n",
      "Correlation between Iris Virginica and Iris Setosa: 0.9047958050294628\n"
     ]
    }
   ],
   "source": [
    "import pandas as pd\n",
    "# Extract subsets for each species pair\n",
    "df_setosa_versicolor = data[data['label'].isin(['Iris-setosa', 'Iris-versicolor'])]\n",
    "df_versicolor_virginica = data[data['label'].isin(['Iris-versicolor', 'Iris-virginica'])]\n",
    "df_virginica_setosa = data[data['label'].isin(['Iris-virginica', 'Iris-setosa'])]\n",
    "\n",
    "# Calculate correlations directly\n",
    "correlation_setosa_versicolor = df_setosa_versicolor['sepal_length'].corr(df_setosa_versicolor['petal_length'])\n",
    "correlation_versicolor_virginica = df_versicolor_virginica['sepal_length'].corr(df_versicolor_virginica['petal_length'])\n",
    "correlation_virginica_setosa = df_virginica_setosa['sepal_length'].corr(df_virginica_setosa['petal_length'])\n",
    "\n",
    "# Print the results\n",
    "print(\"Correlation -\")\n",
    "print(f\"Correlation between Iris Setosa and Iris Versicolour: {correlation_setosa_versicolor}\")\n",
    "print(f\"Correlation between Iris Versicolour and Iris Virginica: {correlation_versicolor_virginica}\")\n",
    "print(f\"Correlation between Iris Virginica and Iris Setosa: {correlation_virginica_setosa}\")\n"
   ]
  },
  {
   "cell_type": "code",
   "execution_count": null,
   "id": "998f42d1-65e2-4fd5-a244-7d1ffc32b11a",
   "metadata": {},
   "outputs": [],
   "source": []
  }
 ],
 "metadata": {
  "kernelspec": {
   "display_name": "Python 3 (ipykernel)",
   "language": "python",
   "name": "python3"
  },
  "language_info": {
   "codemirror_mode": {
    "name": "ipython",
    "version": 3
   },
   "file_extension": ".py",
   "mimetype": "text/x-python",
   "name": "python",
   "nbconvert_exporter": "python",
   "pygments_lexer": "ipython3",
   "version": "3.11.4"
  }
 },
 "nbformat": 4,
 "nbformat_minor": 5
}
