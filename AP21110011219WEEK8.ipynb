{
 "cells": [
  {
   "cell_type": "code",
   "execution_count": 1,
   "id": "258af8b3-85e3-4596-b880-2be94e8f4491",
   "metadata": {},
   "outputs": [],
   "source": [
    "import pandas as pd\n",
    "import numpy as np\n",
    "# Load the dataset\n",
    "data = pd.read_csv('Train.csv')\n",
    "# Check for missing values ratio\n",
    "missing_ratio = data.isnull().mean()\n",
    "columns_to_drop_missing = missing_ratio[missing_ratio > 0.2].index.tolist()\n",
    "data.drop(columns=columns_to_drop_missing, inplace=True)\n",
    "# Low Variance Filter\n",
    "low_variance_threshold = 0.05\n",
    "numeric_columns = data.select_dtypes(include=['number']).columns\n",
    "low_variance = data[numeric_columns].var() < low_variance_threshold\n",
    "columns_to_drop_low_variance = low_variance[low_variance].index.tolist()\n",
    "data.drop(columns=columns_to_drop_low_variance, inplace=True)\n",
    "# High Correlation Filter\n",
    "numeric_data = data.select_dtypes(include=['number'])\n",
    "corr_matrix = numeric_data.corr().abs()\n",
    "upper = corr_matrix.where(~np.tril(np.ones(corr_matrix.shape)).astype(bool))\n",
    "to_drop = [column for column in upper.columns if any(upper[column] > 0.95)]\n",
    "data.drop(columns=to_drop, inplace=True)\n",
    "# Output the reduced dataset\n",
    "data.to_csv('reduced_train.csv', index=False)"
   ]
  }
 ],
 "metadata": {
  "kernelspec": {
   "display_name": "Python 3 (ipykernel)",
   "language": "python",
   "name": "python3"
  },
  "language_info": {
   "codemirror_mode": {
    "name": "ipython",
    "version": 3
   },
   "file_extension": ".py",
   "mimetype": "text/x-python",
   "name": "python",
   "nbconvert_exporter": "python",
   "pygments_lexer": "ipython3",
   "version": "3.11.4"
  }
 },
 "nbformat": 4,
 "nbformat_minor": 5
}
