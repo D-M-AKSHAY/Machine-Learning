{
 "cells": [
  {
   "cell_type": "markdown",
   "id": "8487e723-b78e-4297-bbe7-f57bcd831179",
   "metadata": {},
   "source": [
    "Write a NumPy program to multiply two given arrays of same size element-by-\r\n",
    "element\n",
    "."
   ]
  },
  {
   "cell_type": "code",
   "execution_count": 1,
   "id": "f0eb7632-28d7-4de8-a647-eb27d9706289",
   "metadata": {},
   "outputs": [
    {
     "name": "stdout",
     "output_type": "stream",
     "text": [
      "Please write the elements of the array in a single line and separated by a space: \n"
     ]
    },
    {
     "name": "stdin",
     "output_type": "stream",
     "text": [
      " 1 3 5 7 9\n"
     ]
    },
    {
     "name": "stdout",
     "output_type": "stream",
     "text": [
      "[1 3 5 7 9]\n",
      "Please write the elements of the matrix in a single line and separated by a space: \n"
     ]
    },
    {
     "name": "stdin",
     "output_type": "stream",
     "text": [
      " 1 3 5 7 9\n"
     ]
    },
    {
     "name": "stdout",
     "output_type": "stream",
     "text": [
      "[1 3 5 7 9]\n",
      "[ 1  9 25 49 81]\n"
     ]
    }
   ],
   "source": [
    "import numpy as np\n",
    "print(\"Please write the elements of the array in a single line and separated by a space: \")   \n",
    "elements = list(map(int, input().split()))    \n",
    "matrix1 = np.array(elements)\n",
    "print(matrix1)  \n",
    "print(\"Please write the elements of the matrix in a single line and separated by a space: \")  \n",
    "elements = list(map(int, input().split()))   \n",
    "matrix2 = np.array(elements)\n",
    "print(matrix2)\n",
    "matrix = matrix1 * matrix2\n",
    "print(matrix1*matrix2)"
   ]
  },
  {
   "cell_type": "markdown",
   "id": "fa464100-9fa6-4e75-aaa6-8e95b5ca8625",
   "metadata": {},
   "source": [
    "Write a NumPy program to find the missing data in a given array."
   ]
  },
  {
   "cell_type": "code",
   "execution_count": 2,
   "id": "930baaf3-d854-4df4-a6c4-97353b142686",
   "metadata": {},
   "outputs": [
    {
     "name": "stdout",
     "output_type": "stream",
     "text": [
      "Original array:\n",
      "[ 1.  3.  5. nan]\n",
      "\n",
      "Find the missing data of the said array:\n",
      "[False False False  True]\n",
      "Data is missing in index: \n",
      "3\n"
     ]
    }
   ],
   "source": [
    "elements = ([1,3,5,np.nan])\n",
    "nums=np.array(elements)\n",
    "print(\"Original array:\")\n",
    "print(nums)\n",
    "print(\"\\nFind the missing data of the said array:\")\n",
    "ans=np.isnan(nums)\n",
    "print(ans)\n",
    "print(\"Data is missing in index: \")\n",
    "for i in range(len(ans)):\n",
    "    if ans[i] == True:\n",
    "       print(i)"
   ]
  },
  {
   "cell_type": "markdown",
   "id": "bdcc29a3-281b-4922-a77a-0de7a41f678a",
   "metadata": {},
   "source": [
    "Write a NumPy program to test whether each element of a 1-D array is also present in\n",
    "a second array."
   ]
  },
  {
   "cell_type": "code",
   "execution_count": 3,
   "id": "17eadcdf-7ac3-4537-a7da-7a652fd0e097",
   "metadata": {},
   "outputs": [
    {
     "name": "stdin",
     "output_type": "stream",
     "text": [
      " 1 3 5 7 9\n",
      " 9 5 7 3 1\n"
     ]
    },
    {
     "name": "stdout",
     "output_type": "stream",
     "text": [
      "[ True  True  True  True  True]\n"
     ]
    }
   ],
   "source": [
    "elements1=list(map(int,input().split()))\n",
    "matrix1=np.array(elements1)\n",
    "elements2=list(map(int,input().split()))\n",
    "matrix2=np.array(elements2)\n",
    "ans = np.isin(matrix1,matrix2)\n",
    "print(ans)"
   ]
  },
  {
   "cell_type": "markdown",
   "id": "37c97ab6-5376-46c9-8a50-751a2504fcf0",
   "metadata": {},
   "source": [
    "Write a NumPy program to save a NumPy array to a text file."
   ]
  },
  {
   "cell_type": "code",
   "execution_count": 4,
   "id": "a8085787-ec5c-4093-94ff-82c3cea051d2",
   "metadata": {},
   "outputs": [
    {
     "name": "stdout",
     "output_type": "stream",
     "text": [
      "New NumPy array saved to new_output.txt\n"
     ]
    }
   ],
   "source": [
    "new_data = np.array([[2, 4, 6],\n",
    "                     [8, 10, 12],\n",
    "                     [14, 16, 18]])\n",
    "new_file_path = 'new_output.txt'\n",
    "np.savetxt(new_file_path, new_data, fmt='%d', delimiter=',')\n",
    "print(f\"New NumPy array saved to {new_file_path}\")"
   ]
  },
  {
   "cell_type": "markdown",
   "id": "828a10b0-cad6-4f71-adf8-01e772496310",
   "metadata": {},
   "source": [
    "Write a NumPy program to save a NumPy array to a text file."
   ]
  },
  {
   "cell_type": "code",
   "execution_count": 5,
   "id": "5f7eb80f-864f-48c0-bcb1-7539144cfca1",
   "metadata": {},
   "outputs": [
    {
     "name": "stdout",
     "output_type": "stream",
     "text": [
      "[2.5        2.63793103 2.77586207 2.9137931  3.05172414 3.18965517\n",
      " 3.32758621 3.46551724 3.60344828 3.74137931 3.87931034 4.01724138\n",
      " 4.15517241 4.29310345 4.43103448 4.56896552 4.70689655 4.84482759\n",
      " 4.98275862 5.12068966 5.25862069 5.39655172 5.53448276 5.67241379\n",
      " 5.81034483 5.94827586 6.0862069  6.22413793 6.36206897 6.5       ]\n"
     ]
    }
   ],
   "source": [
    "import numpy as np\n",
    "x = np.linspace(2.5, 6.5, 30)\n",
    "print(x)"
   ]
  },
  {
   "cell_type": "markdown",
   "id": "043fedca-3f2c-474b-94b3-57c4d5c762f9",
   "metadata": {},
   "source": [
    "Write a Pandas program to convert Series of lists to one Series."
   ]
  },
  {
   "cell_type": "code",
   "execution_count": 6,
   "id": "1d80de17-2814-42cc-a123-92cf6301b657",
   "metadata": {},
   "outputs": [
    {
     "name": "stdout",
     "output_type": "stream",
     "text": [
      "New Original Series:\n",
      "0        python\n",
      "1          java\n",
      "2    javascript\n",
      "3        csharp\n",
      "4          ruby\n",
      "dtype: object\n",
      "\n",
      "Number of characters in each word:\n",
      "0     6\n",
      "1     4\n",
      "2    10\n",
      "3     6\n",
      "4     4\n",
      "dtype: int64\n"
     ]
    }
   ],
   "source": [
    "import pandas as pd\n",
    "\n",
    "new_data = {'Text': ['python', 'java', 'javascript', 'csharp', 'ruby']}\n",
    "new_series = pd.Series(new_data['Text'])\n",
    "\n",
    "new_word_lengths = new_series.str.len()\n",
    "\n",
    "print(\"New Original Series:\")\n",
    "print(new_series)\n",
    "print(\"\\nNumber of characters in each word:\")\n",
    "print(new_word_lengths)"
   ]
  },
  {
   "cell_type": "markdown",
   "id": "17d7da4c-2336-4230-b3a0-c7992f02dc41",
   "metadata": {},
   "source": [
    "Write a Pandas program to convert Series of lists to one Series."
   ]
  },
  {
   "cell_type": "code",
   "execution_count": 7,
   "id": "dac7561b-4d64-4df2-9da9-ae78caca0982",
   "metadata": {},
   "outputs": [
    {
     "name": "stdout",
     "output_type": "stream",
     "text": [
      "New Original Series:\n",
      "0    [10, 20, 30, 40]\n",
      "1            [50, 60]\n",
      "2        [70, 80, 90]\n",
      "dtype: object\n",
      "\n",
      "New Converted Series:\n",
      "0    10\n",
      "0    20\n",
      "0    30\n",
      "0    40\n",
      "1    50\n",
      "1    60\n",
      "2    70\n",
      "2    80\n",
      "2    90\n",
      "dtype: object\n"
     ]
    }
   ],
   "source": [
    "import pandas as pd\n",
    "new_series_of_lists = pd.Series([[10, 20, 30, 40], [50, 60], [70, 80, 90]])\n",
    "new_result_series = new_series_of_lists.explode()\n",
    "print(\"New Original Series:\")\n",
    "print(new_series_of_lists)\n",
    "print(\"\\nNew Converted Series:\")\n",
    "print(new_result_series)"
   ]
  },
  {
   "cell_type": "markdown",
   "id": "0a821c54-edfc-49fb-9cde-dc12d22b9e87",
   "metadata": {},
   "source": [
    "Write a Pandas program to create a subset of a given series based on value and\n",
    "condition."
   ]
  },
  {
   "cell_type": "code",
   "execution_count": 8,
   "id": "a4bafafb-240a-49e3-9dc8-f4f39284ae90",
   "metadata": {},
   "outputs": [
    {
     "name": "stdout",
     "output_type": "stream",
     "text": [
      "New Original Series:\n",
      "X    15\n",
      "Y    25\n",
      "Z    35\n",
      "W    45\n",
      "K    55\n",
      "dtype: int64\n",
      "\n",
      "New Subset Series based on new condition:\n",
      "X    15\n",
      "Y    25\n",
      "dtype: int64\n"
     ]
    }
   ],
   "source": [
    "new_data = {'X': 15, 'Y': 25, 'Z': 35, 'W': 45, 'K': 55}\n",
    "new_series = pd.Series(new_data)\n",
    "new_condition = new_series <= 25\n",
    "new_subset_series = new_series[new_condition]\n",
    "print(\"New Original Series:\")\n",
    "print(new_series)\n",
    "print(\"\\nNew Subset Series based on new condition:\")\n",
    "print(new_subset_series)"
   ]
  },
  {
   "cell_type": "markdown",
   "id": "e0fe1818-a412-4e08-8e96-bfd911e2c717",
   "metadata": {},
   "source": [
    "Write a Pandas program to display most frequent value in a given series and replace\n",
    "everything else as \"Other\" in the series."
   ]
  },
  {
   "cell_type": "code",
   "execution_count": 9,
   "id": "7c6f1910-695d-47a2-a694-3f91d7be950b",
   "metadata": {},
   "outputs": [
    {
     "name": "stdout",
     "output_type": "stream",
     "text": [
      "New Original Series:\n",
      "0    X\n",
      "1    Y\n",
      "2    X\n",
      "3    Z\n",
      "4    Y\n",
      "5    X\n",
      "6    X\n",
      "7    Z\n",
      "8    Z\n",
      "dtype: object\n",
      "\n",
      "New Modified Series:\n",
      "0        X\n",
      "1    Other\n",
      "2        X\n",
      "3    Other\n",
      "4    Other\n",
      "5        X\n",
      "6        X\n",
      "7    Other\n",
      "8    Other\n",
      "dtype: object\n"
     ]
    }
   ],
   "source": [
    "new_data = {'Category': ['X', 'Y', 'X', 'Z', 'Y', 'X', 'X', 'Z', 'Z']}\n",
    "new_series = pd.Series(new_data['Category'])\n",
    "new_most_frequent_value = new_series.mode()[0]\n",
    "new_modified_series = new_series.where(new_series == new_most_frequent_value, 'Other')\n",
    "print(\"New Original Series:\")\n",
    "print(new_series)\n",
    "print(\"\\nNew Modified Series:\")\n",
    "print(new_modified_series)"
   ]
  },
  {
   "cell_type": "markdown",
   "id": "f24f8c00-1333-40e3-9bda-ffcce44447d2",
   "metadata": {},
   "source": [
    "Write a Pandas program to find the positions of numbers that are multiples of 5 of a\n",
    "given series."
   ]
  },
  {
   "cell_type": "code",
   "execution_count": 10,
   "id": "9adb46b9-d326-486d-aea5-160e10994171",
   "metadata": {},
   "outputs": [
    {
     "name": "stdout",
     "output_type": "stream",
     "text": [
      "New Original Series:\n",
      "0     8\n",
      "1    12\n",
      "2    18\n",
      "3    22\n",
      "4    25\n",
      "5    32\n",
      "6    40\n",
      "7    45\n",
      "dtype: int64\n",
      "\n",
      "New Positions of numbers that are multiples of 5:\n",
      "Index([4, 6, 7], dtype='int64')\n"
     ]
    }
   ],
   "source": [
    "new_data = {'Numbers': [8, 12, 18, 22, 25, 32, 40, 45]}\n",
    "new_series = pd.Series(new_data['Numbers'])\n",
    "new_positions_of_multiples_of_5 = new_series.index[new_series % 5 == 0]\n",
    "print(\"New Original Series:\")\n",
    "print(new_series)\n",
    "print(\"\\nNew Positions of numbers that are multiples of 5:\")\n",
    "print(new_positions_of_multiples_of_5)"
   ]
  },
  {
   "cell_type": "markdown",
   "id": "ad4bdf13-1a02-40ce-8aba-4ddd92a4f14e",
   "metadata": {},
   "source": [
    "Write a Pandas program to calculate the number of characters in each word in a given\n",
    "series."
   ]
  },
  {
   "cell_type": "code",
   "execution_count": 11,
   "id": "94c82884-f86e-400a-a13b-7f4379969a06",
   "metadata": {},
   "outputs": [
    {
     "name": "stdout",
     "output_type": "stream",
     "text": [
      "New Original Series:\n",
      "0        python\n",
      "1          java\n",
      "2    javascript\n",
      "3        csharp\n",
      "4          ruby\n",
      "dtype: object\n",
      "\n",
      "Number of characters in each word:\n",
      "0     6\n",
      "1     4\n",
      "2    10\n",
      "3     6\n",
      "4     4\n",
      "dtype: int64\n"
     ]
    }
   ],
   "source": [
    "new_data = {'Text': ['python', 'java', 'javascript', 'csharp', 'ruby']}\n",
    "new_series = pd.Series(new_data['Text'])\n",
    "new_word_lengths = new_series.str.len()\n",
    "print(\"New Original Series:\")\n",
    "print(new_series)\n",
    "print(\"\\nNumber of characters in each word:\")\n",
    "print(new_word_lengths)"
   ]
  },
  {
   "cell_type": "markdown",
   "id": "6bd092a1-f5f7-40e6-a792-5a2771cffe09",
   "metadata": {},
   "source": [
    "Write a Pandas program to convert year-month string to dates adding a specified day\n",
    "of the month."
   ]
  },
  {
   "cell_type": "code",
   "execution_count": 12,
   "id": "f9c140a0-f70e-4889-a606-3286c6313fc4",
   "metadata": {},
   "outputs": [
    {
     "name": "stdout",
     "output_type": "stream",
     "text": [
      "New Original Series:\n",
      "0    2023-05\n",
      "1    2023-06\n",
      "2    2023-07\n",
      "3    2023-08\n",
      "dtype: object\n",
      "\n",
      "New Resulting Dates:\n",
      "0   2023-05-10\n",
      "1   2023-06-10\n",
      "2   2023-07-10\n",
      "3   2023-08-10\n",
      "dtype: datetime64[ns]\n"
     ]
    }
   ],
   "source": [
    "new_data = {'YearMonth': ['2023-05', '2023-06', '2023-07', '2023-08']}\n",
    "new_series = pd.Series(new_data['YearMonth'])\n",
    "new_day_of_month = 10\n",
    "new_result_dates = pd.to_datetime(new_series + '-' + str(new_day_of_month), format='%Y-%m-%d')\n",
    "print(\"New Original Series:\")\n",
    "print(new_series)\n",
    "print(\"\\nNew Resulting Dates:\")\n",
    "print(new_result_dates)"
   ]
  },
  {
   "cell_type": "markdown",
   "id": "c5f031ff-1055-4a96-a36b-de9621d9780e",
   "metadata": {},
   "source": [
    "Write a Pandas program to create and display a DataFrame from a specified\n",
    "dictionary data which has the index labels."
   ]
  },
  {
   "cell_type": "code",
   "execution_count": 13,
   "id": "f79d0fd3-b07a-4b4f-86da-e6d86e11afaa",
   "metadata": {},
   "outputs": [
    {
     "name": "stdout",
     "output_type": "stream",
     "text": [
      "           Name  Age           City\n",
      "Person1  akshay   25       New York\n",
      "Person2  cherry   30    Los Angeles\n",
      "Person3   akash   22        Chicago\n",
      "Person4   abhay   28  San Francisco\n"
     ]
    }
   ],
   "source": [
    "data = {'Name': ['akshay', 'cherry', 'akash', 'abhay'],\n",
    "        'Age': [25, 30, 22, 28],\n",
    "        'City': ['New York', 'Los Angeles', 'Chicago', 'San Francisco']}\n",
    "index_labels = ['Person1', 'Person2', 'Person3', 'Person4']\n",
    "df = pd.DataFrame(data, index=index_labels)\n",
    "print(df)"
   ]
  },
  {
   "cell_type": "markdown",
   "id": "22be94d6-93f7-4222-96eb-87b18eb8e012",
   "metadata": {},
   "source": [
    "Write a Pandas program to select the rows where the number of attempts in the\r\n",
    "examination is greater than 2."
   ]
  },
  {
   "cell_type": "code",
   "execution_count": 14,
   "id": "4f09bfdd-e354-479e-b670-a7ad222521e8",
   "metadata": {},
   "outputs": [
    {
     "name": "stdout",
     "output_type": "stream",
     "text": [
      "New DataFrame:\n",
      "     Name  Attempts  Score\n",
      "0  Cherry         4     89\n",
      "1  akshay         5     95\n",
      "2   abhay         2     70\n",
      "3   Akash         3     85\n",
      "4    abhi         4     92\n",
      "\n",
      "Selected rows where the number of attempts is greater than 2:\n",
      "     Name  Attempts  Score\n",
      "0  Cherry         4     89\n",
      "1  akshay         5     95\n",
      "3   Akash         3     85\n",
      "4    abhi         4     92\n"
     ]
    }
   ],
   "source": [
    "new_data = {'Name': ['Cherry', 'akshay', 'abhay', 'Akash', 'abhi'],\n",
    "            'Attempts': [4, 5, 2, 3, 4],\n",
    "            'Score': [89, 95, 70, 85, 92]}\n",
    "new_df = pd.DataFrame(new_data)\n",
    "new_result_df = new_df[new_df['Attempts'] > 2]\n",
    "print(\"New DataFrame:\")\n",
    "print(new_df)\n",
    "print(\"\\nSelected rows where the number of attempts is greater than 2:\")\n",
    "print(new_result_df)"
   ]
  },
  {
   "cell_type": "markdown",
   "id": "e1de562e-fb45-47ea-a8ae-c0111bd3cb76",
   "metadata": {},
   "source": [
    "Write a Pandas program to append a new row \"k\" to data frame with given values for\n",
    "each column. Now delete the new row and return the original DataFrame."
   ]
  },
  {
   "cell_type": "code",
   "execution_count": 15,
   "id": "0ae1b6af-3d08-4501-8adf-c8e1c26ef481",
   "metadata": {},
   "outputs": [
    {
     "name": "stdout",
     "output_type": "stream",
     "text": [
      "Original rows:\n",
      "     name  score  attempts qualify\n",
      "a  akshay   12.5         1     yes\n",
      "b  cherry    9.0         3      no\n",
      "c  chinni   16.5         2     yes\n",
      "d     joy    NaN         3      no\n",
      "e   abhay    9.0         2      no\n",
      "nAppend a new row:\n",
      "Print all records after insert a new record:\n",
      "     name   score attempts qualify\n",
      "a  akshay    12.5        1     yes\n",
      "b  cherry     9.0        3      no\n",
      "c  chinni    16.5        2     yes\n",
      "d     joy     NaN        3      no\n",
      "e   abhay     9.0        2      no\n",
      "k       1  Suresh      yes    15.5\n",
      "nDelete the new row and display the original  rows:\n",
      "     name score attempts qualify\n",
      "a  akshay  12.5        1     yes\n",
      "b  cherry   9.0        3      no\n",
      "c  chinni  16.5        2     yes\n",
      "d     joy   NaN        3      no\n",
      "e   abhay   9.0        2      no\n"
     ]
    }
   ],
   "source": [
    "import pandas as pd\n",
    "import numpy as np\n",
    "exam_data  = {'name': ['akshay','cherry','chinni','joy','abhay'],\n",
    "        'score': [12.5, 9, 16.5, np.nan, 9],\n",
    "        'attempts': [1, 3, 2, 3, 2],\n",
    "        'qualify': ['yes', 'no', 'yes', 'no', 'no']}\n",
    "labels = ['a', 'b', 'c', 'd', 'e']\n",
    "df = pd.DataFrame(exam_data , index=labels)\n",
    "print(\"Original rows:\")\n",
    "print(df)\n",
    "print(\"nAppend a new row:\")\n",
    "df.loc['k'] = [1, 'Suresh', 'yes', 15.5]\n",
    "print(\"Print all records after insert a new record:\")\n",
    "print(df)\n",
    "print(\"nDelete the new row and display the original  rows:\")\n",
    "df = df.drop('k')\n",
    "print(df)"
   ]
  },
  {
   "cell_type": "markdown",
   "id": "f8371ac6-796b-45a3-8158-8318a542c133",
   "metadata": {},
   "source": [
    "Write a Pandas program to sort the DataFrame first by \"name\" in descending order,\n",
    "then by \"score\" in ascending order."
   ]
  },
  {
   "cell_type": "code",
   "execution_count": 16,
   "id": "3889d41d-9ad7-4a6b-a875-3315a1092a85",
   "metadata": {},
   "outputs": [
    {
     "name": "stdout",
     "output_type": "stream",
     "text": [
      "Orginal rows:\n",
      "      name  score  attempts qualify\n",
      "a   akshay   12.5         1     yes\n",
      "b   tanish    9.0         3      no\n",
      "c  dedipya   16.5         2     yes\n",
      "d    abhay    NaN         3      no\n",
      "e  avinash    9.0         2      no\n",
      "Sort the data frame first by ‘name’ in descending order, then by ‘score’ in ascending order:\n",
      "      name  score  attempts qualify\n",
      "b   tanish    9.0         3      no\n",
      "c  dedipya   16.5         2     yes\n",
      "e  avinash    9.0         2      no\n",
      "a   akshay   12.5         1     yes\n",
      "d    abhay    NaN         3      no\n"
     ]
    }
   ],
   "source": [
    "import pandas as pd\n",
    "import numpy as np\n",
    "exam_data  = {'name': ['akshay', 'tanish', 'dedipya', 'abhay', 'avinash'],\n",
    "        'score': [12.5, 9, 16.5, np.nan, 9],\n",
    "        'attempts': [1, 3, 2, 3, 2],\n",
    "        'qualify': ['yes', 'no', 'yes', 'no', 'no']}\n",
    "labels = ['a', 'b', 'c', 'd', 'e']\n",
    "df = pd.DataFrame(exam_data , index=labels)\n",
    "print(\"Orginal rows:\")\n",
    "print(df)\n",
    "df = df.sort_values(by=['name', 'score'], ascending=[False, True])\n",
    "print(\"Sort the data frame first by ‘name’ in descending order, then by ‘score’ in ascending order:\")\n",
    "print(df)"
   ]
  },
  {
   "cell_type": "markdown",
   "id": "76539dc6-b385-4f38-85ff-59cb6be57ec3",
   "metadata": {},
   "source": [
    "Write a Pandas program to replace the &#39;qualify&#39; column contains the values \"yes\" and\n",
    "\"no\" with True and False"
   ]
  },
  {
   "cell_type": "code",
   "execution_count": 17,
   "id": "e0867e4d-ceaa-4e55-9c2b-0d26a3c53e14",
   "metadata": {},
   "outputs": [
    {
     "name": "stdout",
     "output_type": "stream",
     "text": [
      "New DataFrame:\n",
      "     Name  Attempts Qualify\n",
      "0  akshay         2     yes\n",
      "1  cherry         3      no\n",
      "2   akash         1     yes\n",
      "3    abhi         4      no\n",
      "\n",
      "New DataFrame after replacing 'yes' and 'no' with True and False:\n",
      "     Name  Attempts  Qualify\n",
      "0  akshay         2     True\n",
      "1  cherry         3    False\n",
      "2   akash         1     True\n",
      "3    abhi         4    False\n"
     ]
    }
   ],
   "source": [
    "new_data = {'Name': ['akshay', 'cherry', 'akash', 'abhi'],\n",
    "            'Attempts': [2, 3, 1, 4],\n",
    "            'Qualify': ['yes', 'no', 'yes', 'no']}\n",
    "new_df = pd.DataFrame(new_data)\n",
    "print(\"New DataFrame:\")\n",
    "print(new_df)\n",
    "new_df['Qualify'] = new_df['Qualify'].replace({'yes': True, 'no': False})\n",
    "print(\"\\nNew DataFrame after replacing 'yes' and 'no' with True and False:\")\n",
    "print(new_df)"
   ]
  },
  {
   "cell_type": "markdown",
   "id": "3e63f248-2b3f-4744-bb3e-ffd4475be1ef",
   "metadata": {},
   "source": [
    "Write a Pandas program to remove infinite values from a given DataFrame."
   ]
  },
  {
   "cell_type": "code",
   "execution_count": 18,
   "id": "c579f6f5-7979-4bde-8ea3-3aa66a907851",
   "metadata": {},
   "outputs": [
    {
     "name": "stdout",
     "output_type": "stream",
     "text": [
      "New DataFrame:\n",
      "     A     B\n",
      "0  3.0   inf\n",
      "1  6.0  11.0\n",
      "2  inf  13.0\n",
      "3  9.0  15.0\n",
      "\n",
      "New DataFrame after removing infinite values:\n",
      "     A     B\n",
      "1  6.0  11.0\n",
      "3  9.0  15.0\n"
     ]
    }
   ],
   "source": [
    "import pandas as pd\n",
    "import numpy as np\n",
    "\n",
    "new_data = {'A': [3, 6, np.inf, 9],\n",
    "            'B': [np.inf, 11, 13, 15]}\n",
    "\n",
    "new_df = pd.DataFrame(new_data)\n",
    "\n",
    "print(\"New DataFrame:\")\n",
    "print(new_df)\n",
    "\n",
    "new_df.replace([np.inf, -np.inf], np.nan, inplace=True)\n",
    "\n",
    "new_df = new_df.dropna()\n",
    "\n",
    "print(\"\\nNew DataFrame after removing infinite values:\")\n",
    "print(new_df)"
   ]
  }
 ],
 "metadata": {
  "kernelspec": {
   "display_name": "Python 3 (ipykernel)",
   "language": "python",
   "name": "python3"
  },
  "language_info": {
   "codemirror_mode": {
    "name": "ipython",
    "version": 3
   },
   "file_extension": ".py",
   "mimetype": "text/x-python",
   "name": "python",
   "nbconvert_exporter": "python",
   "pygments_lexer": "ipython3",
   "version": "3.11.4"
  }
 },
 "nbformat": 4,
 "nbformat_minor": 5
}
